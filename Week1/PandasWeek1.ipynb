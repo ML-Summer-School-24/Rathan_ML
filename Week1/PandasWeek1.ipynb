{
 "cells": [
  {
   "cell_type": "code",
   "execution_count": 23,
   "id": "77bcf7b1-31a7-4c89-a3e4-a359acbd7a2d",
   "metadata": {},
   "outputs": [],
   "source": [
    "import numpy as py\n",
    "import pandas as pd"
   ]
  },
  {
   "cell_type": "code",
   "execution_count": 89,
   "id": "d36541a9-0bae-4159-bacc-dde62c46ceee",
   "metadata": {},
   "outputs": [],
   "source": [
    "results = {\n",
    "    'Rollno.' : [1, 2, 3, 4, 5, 6, 7, 8, 9, 10],\n",
    "    'Name' : ['Craig', 'Harvey', 'Katy', 'Ryan', 'Danica', 'Sonia', 'Adriel', 'Michael', 'Ben', 'Angela'],\n",
    "    'Gender' : ['Male', 'Male', 'Female', 'Male', 'Female', 'Female', 'Male', 'Male', 'Male', 'Female'],\n",
    "    'Marks1' : [52, 85, 32, 56, 51, 74, 93, 60, 98, 89],\n",
    "    'Marks2' : [51, 71, 82, 48, 86, 54, 21, 24, 33, 46],\n",
    "    'Marks3' : [31, 63, 48, 39, 43, 82, 71, 42, 46, 68]\n",
    "}\n",
    "\n",
    "#Created a dataframe\n",
    "df = pd.DataFrame(results)"
   ]
  },
  {
   "cell_type": "code",
   "execution_count": 91,
   "id": "478ccf88-4532-488a-8dfb-48c28f4edec4",
   "metadata": {},
   "outputs": [
    {
     "data": {
      "text/html": [
       "<div>\n",
       "<style scoped>\n",
       "    .dataframe tbody tr th:only-of-type {\n",
       "        vertical-align: middle;\n",
       "    }\n",
       "\n",
       "    .dataframe tbody tr th {\n",
       "        vertical-align: top;\n",
       "    }\n",
       "\n",
       "    .dataframe thead th {\n",
       "        text-align: right;\n",
       "    }\n",
       "</style>\n",
       "<table border=\"1\" class=\"dataframe\">\n",
       "  <thead>\n",
       "    <tr style=\"text-align: right;\">\n",
       "      <th></th>\n",
       "      <th>Rollno.</th>\n",
       "      <th>Name</th>\n",
       "      <th>Gender</th>\n",
       "      <th>Marks1</th>\n",
       "      <th>Marks2</th>\n",
       "      <th>Marks3</th>\n",
       "    </tr>\n",
       "  </thead>\n",
       "  <tbody>\n",
       "    <tr>\n",
       "      <th>0</th>\n",
       "      <td>1</td>\n",
       "      <td>Craig</td>\n",
       "      <td>Male</td>\n",
       "      <td>52</td>\n",
       "      <td>51</td>\n",
       "      <td>31</td>\n",
       "    </tr>\n",
       "    <tr>\n",
       "      <th>1</th>\n",
       "      <td>2</td>\n",
       "      <td>Harvey</td>\n",
       "      <td>Male</td>\n",
       "      <td>85</td>\n",
       "      <td>71</td>\n",
       "      <td>63</td>\n",
       "    </tr>\n",
       "    <tr>\n",
       "      <th>2</th>\n",
       "      <td>3</td>\n",
       "      <td>Katy</td>\n",
       "      <td>Female</td>\n",
       "      <td>32</td>\n",
       "      <td>82</td>\n",
       "      <td>48</td>\n",
       "    </tr>\n",
       "    <tr>\n",
       "      <th>3</th>\n",
       "      <td>4</td>\n",
       "      <td>Ryan</td>\n",
       "      <td>Male</td>\n",
       "      <td>56</td>\n",
       "      <td>48</td>\n",
       "      <td>39</td>\n",
       "    </tr>\n",
       "    <tr>\n",
       "      <th>4</th>\n",
       "      <td>5</td>\n",
       "      <td>Danica</td>\n",
       "      <td>Female</td>\n",
       "      <td>51</td>\n",
       "      <td>86</td>\n",
       "      <td>43</td>\n",
       "    </tr>\n",
       "    <tr>\n",
       "      <th>5</th>\n",
       "      <td>6</td>\n",
       "      <td>Sonia</td>\n",
       "      <td>Female</td>\n",
       "      <td>74</td>\n",
       "      <td>54</td>\n",
       "      <td>82</td>\n",
       "    </tr>\n",
       "    <tr>\n",
       "      <th>6</th>\n",
       "      <td>7</td>\n",
       "      <td>Adriel</td>\n",
       "      <td>Male</td>\n",
       "      <td>93</td>\n",
       "      <td>21</td>\n",
       "      <td>71</td>\n",
       "    </tr>\n",
       "    <tr>\n",
       "      <th>7</th>\n",
       "      <td>8</td>\n",
       "      <td>Michael</td>\n",
       "      <td>Male</td>\n",
       "      <td>60</td>\n",
       "      <td>24</td>\n",
       "      <td>42</td>\n",
       "    </tr>\n",
       "    <tr>\n",
       "      <th>8</th>\n",
       "      <td>9</td>\n",
       "      <td>Ben</td>\n",
       "      <td>Male</td>\n",
       "      <td>98</td>\n",
       "      <td>33</td>\n",
       "      <td>46</td>\n",
       "    </tr>\n",
       "    <tr>\n",
       "      <th>9</th>\n",
       "      <td>10</td>\n",
       "      <td>Angela</td>\n",
       "      <td>Female</td>\n",
       "      <td>89</td>\n",
       "      <td>46</td>\n",
       "      <td>68</td>\n",
       "    </tr>\n",
       "  </tbody>\n",
       "</table>\n",
       "</div>"
      ],
      "text/plain": [
       "   Rollno.     Name  Gender  Marks1  Marks2  Marks3\n",
       "0        1    Craig    Male      52      51      31\n",
       "1        2   Harvey    Male      85      71      63\n",
       "2        3     Katy  Female      32      82      48\n",
       "3        4     Ryan    Male      56      48      39\n",
       "4        5   Danica  Female      51      86      43\n",
       "5        6    Sonia  Female      74      54      82\n",
       "6        7   Adriel    Male      93      21      71\n",
       "7        8  Michael    Male      60      24      42\n",
       "8        9      Ben    Male      98      33      46\n",
       "9       10   Angela  Female      89      46      68"
      ]
     },
     "execution_count": 91,
     "metadata": {},
     "output_type": "execute_result"
    }
   ],
   "source": [
    "df"
   ]
  },
  {
   "cell_type": "code",
   "execution_count": 93,
   "id": "4a18419b-5f93-4d8b-a69d-21503b5b1917",
   "metadata": {},
   "outputs": [
    {
     "data": {
      "text/html": [
       "<div>\n",
       "<style scoped>\n",
       "    .dataframe tbody tr th:only-of-type {\n",
       "        vertical-align: middle;\n",
       "    }\n",
       "\n",
       "    .dataframe tbody tr th {\n",
       "        vertical-align: top;\n",
       "    }\n",
       "\n",
       "    .dataframe thead th {\n",
       "        text-align: right;\n",
       "    }\n",
       "</style>\n",
       "<table border=\"1\" class=\"dataframe\">\n",
       "  <thead>\n",
       "    <tr style=\"text-align: right;\">\n",
       "      <th></th>\n",
       "      <th>Rollno.</th>\n",
       "      <th>Name</th>\n",
       "      <th>Gender</th>\n",
       "      <th>Marks1</th>\n",
       "      <th>Marks2</th>\n",
       "      <th>Marks3</th>\n",
       "      <th>Total</th>\n",
       "    </tr>\n",
       "  </thead>\n",
       "  <tbody>\n",
       "    <tr>\n",
       "      <th>0</th>\n",
       "      <td>1</td>\n",
       "      <td>Craig</td>\n",
       "      <td>Male</td>\n",
       "      <td>52</td>\n",
       "      <td>51</td>\n",
       "      <td>31</td>\n",
       "      <td>103</td>\n",
       "    </tr>\n",
       "    <tr>\n",
       "      <th>1</th>\n",
       "      <td>2</td>\n",
       "      <td>Harvey</td>\n",
       "      <td>Male</td>\n",
       "      <td>85</td>\n",
       "      <td>71</td>\n",
       "      <td>63</td>\n",
       "      <td>156</td>\n",
       "    </tr>\n",
       "    <tr>\n",
       "      <th>2</th>\n",
       "      <td>3</td>\n",
       "      <td>Katy</td>\n",
       "      <td>Female</td>\n",
       "      <td>32</td>\n",
       "      <td>82</td>\n",
       "      <td>48</td>\n",
       "      <td>114</td>\n",
       "    </tr>\n",
       "    <tr>\n",
       "      <th>3</th>\n",
       "      <td>4</td>\n",
       "      <td>Ryan</td>\n",
       "      <td>Male</td>\n",
       "      <td>56</td>\n",
       "      <td>48</td>\n",
       "      <td>39</td>\n",
       "      <td>104</td>\n",
       "    </tr>\n",
       "    <tr>\n",
       "      <th>4</th>\n",
       "      <td>5</td>\n",
       "      <td>Danica</td>\n",
       "      <td>Female</td>\n",
       "      <td>51</td>\n",
       "      <td>86</td>\n",
       "      <td>43</td>\n",
       "      <td>137</td>\n",
       "    </tr>\n",
       "    <tr>\n",
       "      <th>5</th>\n",
       "      <td>6</td>\n",
       "      <td>Sonia</td>\n",
       "      <td>Female</td>\n",
       "      <td>74</td>\n",
       "      <td>54</td>\n",
       "      <td>82</td>\n",
       "      <td>128</td>\n",
       "    </tr>\n",
       "    <tr>\n",
       "      <th>6</th>\n",
       "      <td>7</td>\n",
       "      <td>Adriel</td>\n",
       "      <td>Male</td>\n",
       "      <td>93</td>\n",
       "      <td>21</td>\n",
       "      <td>71</td>\n",
       "      <td>114</td>\n",
       "    </tr>\n",
       "    <tr>\n",
       "      <th>7</th>\n",
       "      <td>8</td>\n",
       "      <td>Michael</td>\n",
       "      <td>Male</td>\n",
       "      <td>60</td>\n",
       "      <td>24</td>\n",
       "      <td>42</td>\n",
       "      <td>84</td>\n",
       "    </tr>\n",
       "    <tr>\n",
       "      <th>8</th>\n",
       "      <td>9</td>\n",
       "      <td>Ben</td>\n",
       "      <td>Male</td>\n",
       "      <td>98</td>\n",
       "      <td>33</td>\n",
       "      <td>46</td>\n",
       "      <td>131</td>\n",
       "    </tr>\n",
       "    <tr>\n",
       "      <th>9</th>\n",
       "      <td>10</td>\n",
       "      <td>Angela</td>\n",
       "      <td>Female</td>\n",
       "      <td>89</td>\n",
       "      <td>46</td>\n",
       "      <td>68</td>\n",
       "      <td>135</td>\n",
       "    </tr>\n",
       "  </tbody>\n",
       "</table>\n",
       "</div>"
      ],
      "text/plain": [
       "   Rollno.     Name  Gender  Marks1  Marks2  Marks3  Total\n",
       "0        1    Craig    Male      52      51      31    103\n",
       "1        2   Harvey    Male      85      71      63    156\n",
       "2        3     Katy  Female      32      82      48    114\n",
       "3        4     Ryan    Male      56      48      39    104\n",
       "4        5   Danica  Female      51      86      43    137\n",
       "5        6    Sonia  Female      74      54      82    128\n",
       "6        7   Adriel    Male      93      21      71    114\n",
       "7        8  Michael    Male      60      24      42     84\n",
       "8        9      Ben    Male      98      33      46    131\n",
       "9       10   Angela  Female      89      46      68    135"
      ]
     },
     "execution_count": 93,
     "metadata": {},
     "output_type": "execute_result"
    }
   ],
   "source": [
    "#Added a new column 'Total', which is the total marks\n",
    "df['Total'] = df.iloc[: , 3:-1 ].sum(axis = 1)\n",
    "df"
   ]
  },
  {
   "cell_type": "code",
   "execution_count": 95,
   "id": "e9a6b801-ab56-471a-9dc4-f17d02ea2bea",
   "metadata": {},
   "outputs": [
    {
     "data": {
      "text/plain": [
       "32"
      ]
     },
     "execution_count": 95,
     "metadata": {},
     "output_type": "execute_result"
    }
   ],
   "source": [
    "#Finding the lowest marks in Marks1\n",
    "lowest_marks1 = df['Marks1'].min()\n",
    "lowest_marks1"
   ]
  },
  {
   "cell_type": "code",
   "execution_count": 97,
   "id": "7d5e6882-b53d-4601-9886-bdc09553b9d2",
   "metadata": {},
   "outputs": [
    {
     "data": {
      "text/plain": [
       "86"
      ]
     },
     "execution_count": 97,
     "metadata": {},
     "output_type": "execute_result"
    }
   ],
   "source": [
    "#Finding the highest marks in Marks2\n",
    "highest_marks2 = df['Marks2'].max()\n",
    "highest_marks2"
   ]
  },
  {
   "cell_type": "code",
   "execution_count": 99,
   "id": "4b4dbb82-bc7e-45d1-a9d6-4de7f2dc7ebd",
   "metadata": {},
   "outputs": [
    {
     "data": {
      "text/plain": [
       "53.3"
      ]
     },
     "execution_count": 99,
     "metadata": {},
     "output_type": "execute_result"
    }
   ],
   "source": [
    "#Finding the average mark of Marks3\n",
    "avg_marks3 = df['Marks3'].mean()\n",
    "avg_marks3"
   ]
  },
  {
   "cell_type": "code",
   "execution_count": 101,
   "id": "4f65c7f8-98f8-4b82-89e7-e01e07c1bca7",
   "metadata": {},
   "outputs": [
    {
     "data": {
      "text/plain": [
       "156"
      ]
     },
     "execution_count": 101,
     "metadata": {},
     "output_type": "execute_result"
    }
   ],
   "source": [
    "#Higher average = Higher score\n",
    "high_score = df['Total'].max()\n",
    "high_score "
   ]
  },
  {
   "cell_type": "code",
   "execution_count": 103,
   "id": "19101a32-6a13-45ba-9a02-daebb3a49ee8",
   "metadata": {},
   "outputs": [
    {
     "data": {
      "text/html": [
       "<div>\n",
       "<style scoped>\n",
       "    .dataframe tbody tr th:only-of-type {\n",
       "        vertical-align: middle;\n",
       "    }\n",
       "\n",
       "    .dataframe tbody tr th {\n",
       "        vertical-align: top;\n",
       "    }\n",
       "\n",
       "    .dataframe thead th {\n",
       "        text-align: right;\n",
       "    }\n",
       "</style>\n",
       "<table border=\"1\" class=\"dataframe\">\n",
       "  <thead>\n",
       "    <tr style=\"text-align: right;\">\n",
       "      <th></th>\n",
       "      <th>Rollno.</th>\n",
       "      <th>Name</th>\n",
       "      <th>Gender</th>\n",
       "      <th>Marks1</th>\n",
       "      <th>Marks2</th>\n",
       "      <th>Marks3</th>\n",
       "      <th>Total</th>\n",
       "    </tr>\n",
       "  </thead>\n",
       "  <tbody>\n",
       "    <tr>\n",
       "      <th>1</th>\n",
       "      <td>2</td>\n",
       "      <td>Harvey</td>\n",
       "      <td>Male</td>\n",
       "      <td>85</td>\n",
       "      <td>71</td>\n",
       "      <td>63</td>\n",
       "      <td>156</td>\n",
       "    </tr>\n",
       "  </tbody>\n",
       "</table>\n",
       "</div>"
      ],
      "text/plain": [
       "   Rollno.    Name Gender  Marks1  Marks2  Marks3  Total\n",
       "1        2  Harvey   Male      85      71      63    156"
      ]
     },
     "execution_count": 103,
     "metadata": {},
     "output_type": "execute_result"
    }
   ],
   "source": [
    "df.loc[df['Total'] == high_score]"
   ]
  },
  {
   "cell_type": "code",
   "execution_count": 105,
   "id": "e8bf7054-0263-4253-b88a-7bd0e0ae5c42",
   "metadata": {},
   "outputs": [
    {
     "data": {
      "text/plain": [
       "'Harvey'"
      ]
     },
     "execution_count": 105,
     "metadata": {},
     "output_type": "execute_result"
    }
   ],
   "source": [
    "#The person with the highest average\n",
    "highest_scorer = df.loc[df['Total'] == high_score]['Name'].values[0]\n",
    "highest_scorer"
   ]
  },
  {
   "cell_type": "code",
   "execution_count": 107,
   "id": "9d8342cb-451b-48aa-aadd-9f453b679d64",
   "metadata": {},
   "outputs": [
    {
     "data": {
      "text/plain": [
       "3"
      ]
     },
     "execution_count": 107,
     "metadata": {},
     "output_type": "execute_result"
    }
   ],
   "source": [
    "#Finding the number of people who failed in Marks2\n",
    "failed_marks2 = df.loc[df['Marks2'] < 40].shape[0]\n",
    "failed_marks2"
   ]
  },
  {
   "cell_type": "code",
   "execution_count": 109,
   "id": "ef16fc07-9fdc-48ab-9ef0-64218b20e0c5",
   "metadata": {
    "scrolled": true
   },
   "outputs": [
    {
     "data": {
      "text/html": [
       "<div>\n",
       "<style scoped>\n",
       "    .dataframe tbody tr th:only-of-type {\n",
       "        vertical-align: middle;\n",
       "    }\n",
       "\n",
       "    .dataframe tbody tr th {\n",
       "        vertical-align: top;\n",
       "    }\n",
       "\n",
       "    .dataframe thead th {\n",
       "        text-align: right;\n",
       "    }\n",
       "</style>\n",
       "<table border=\"1\" class=\"dataframe\">\n",
       "  <thead>\n",
       "    <tr style=\"text-align: right;\">\n",
       "      <th></th>\n",
       "      <th>Marks1</th>\n",
       "      <th>Marks2</th>\n",
       "      <th>Marks3</th>\n",
       "      <th>Total</th>\n",
       "    </tr>\n",
       "  </thead>\n",
       "  <tbody>\n",
       "    <tr>\n",
       "      <th>count</th>\n",
       "      <td>10.000000</td>\n",
       "      <td>10.000000</td>\n",
       "      <td>10.000000</td>\n",
       "      <td>10.000000</td>\n",
       "    </tr>\n",
       "    <tr>\n",
       "      <th>mean</th>\n",
       "      <td>69.000000</td>\n",
       "      <td>51.600000</td>\n",
       "      <td>53.300000</td>\n",
       "      <td>120.600000</td>\n",
       "    </tr>\n",
       "    <tr>\n",
       "      <th>std</th>\n",
       "      <td>21.934245</td>\n",
       "      <td>22.554625</td>\n",
       "      <td>16.546567</td>\n",
       "      <td>20.828399</td>\n",
       "    </tr>\n",
       "    <tr>\n",
       "      <th>min</th>\n",
       "      <td>32.000000</td>\n",
       "      <td>21.000000</td>\n",
       "      <td>31.000000</td>\n",
       "      <td>84.000000</td>\n",
       "    </tr>\n",
       "    <tr>\n",
       "      <th>25%</th>\n",
       "      <td>53.000000</td>\n",
       "      <td>36.250000</td>\n",
       "      <td>42.250000</td>\n",
       "      <td>106.500000</td>\n",
       "    </tr>\n",
       "    <tr>\n",
       "      <th>50%</th>\n",
       "      <td>67.000000</td>\n",
       "      <td>49.500000</td>\n",
       "      <td>47.000000</td>\n",
       "      <td>121.000000</td>\n",
       "    </tr>\n",
       "    <tr>\n",
       "      <th>75%</th>\n",
       "      <td>88.000000</td>\n",
       "      <td>66.750000</td>\n",
       "      <td>66.750000</td>\n",
       "      <td>134.000000</td>\n",
       "    </tr>\n",
       "    <tr>\n",
       "      <th>max</th>\n",
       "      <td>98.000000</td>\n",
       "      <td>86.000000</td>\n",
       "      <td>82.000000</td>\n",
       "      <td>156.000000</td>\n",
       "    </tr>\n",
       "  </tbody>\n",
       "</table>\n",
       "</div>"
      ],
      "text/plain": [
       "          Marks1     Marks2     Marks3       Total\n",
       "count  10.000000  10.000000  10.000000   10.000000\n",
       "mean   69.000000  51.600000  53.300000  120.600000\n",
       "std    21.934245  22.554625  16.546567   20.828399\n",
       "min    32.000000  21.000000  31.000000   84.000000\n",
       "25%    53.000000  36.250000  42.250000  106.500000\n",
       "50%    67.000000  49.500000  47.000000  121.000000\n",
       "75%    88.000000  66.750000  66.750000  134.000000\n",
       "max    98.000000  86.000000  82.000000  156.000000"
      ]
     },
     "execution_count": 109,
     "metadata": {},
     "output_type": "execute_result"
    }
   ],
   "source": [
    "#5 - number summary of the numeric columns\n",
    "df.iloc[: , 3:].describe()"
   ]
  }
 ],
 "metadata": {
  "kernelspec": {
   "display_name": "Python 3 (ipykernel)",
   "language": "python",
   "name": "python3"
  },
  "language_info": {
   "codemirror_mode": {
    "name": "ipython",
    "version": 3
   },
   "file_extension": ".py",
   "mimetype": "text/x-python",
   "name": "python",
   "nbconvert_exporter": "python",
   "pygments_lexer": "ipython3",
   "version": "3.11.7"
  }
 },
 "nbformat": 4,
 "nbformat_minor": 5
}
